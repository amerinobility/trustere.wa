{
 "cells": [
  {
   "cell_type": "code",
   "execution_count": 1,
   "metadata": {},
   "outputs": [],
   "source": [
    "# To import detective from relative folder\n",
    "import os\n",
    "import sys\n",
    "module_path = os.path.abspath(os.path.join('..'))\n",
    "if module_path not in sys.path:\n",
    "    sys.path.append(module_path)\n",
    "\n",
    "from typing import List\n",
    "import detective.core as detective\n",
    "import pandas as pd\n",
    "pd.options.mode.chained_assignment = None  # Suppress chained_assignment warning, default='warn'\n",
    "from sqlalchemy import text\n",
    "import matplotlib.pyplot as plt\n",
    "%matplotlib inline"
   ]
  },
  {
   "cell_type": "code",
   "execution_count": 2,
   "metadata": {},
   "outputs": [
    {
     "name": "stdout",
     "output_type": "stream",
     "text": [
      "Successfully connected to database sqlite:///home-assistant_v2.db\n",
      "There are 5 entities with data\n",
      "CPU times: user 10.4 ms, sys: 4.34 ms, total: 14.7 ms\n",
      "Wall time: 21.4 ms\n"
     ]
    }
   ],
   "source": [
    "%%time\n",
    "db = detective.HassDatabase('sqlite:///home-assistant_v2.db') # To init without fetching entities fetch_entities=False"
   ]
  },
  {
   "cell_type": "code",
   "execution_count": 3,
   "metadata": {},
   "outputs": [
    {
     "name": "stdout",
     "output_type": "stream",
     "text": [
      "Querying the database, this could take a while\n",
      "master_df created successfully.\n"
     ]
    }
   ],
   "source": [
    "db.fetch_all_data()"
   ]
  },
  {
   "cell_type": "markdown",
   "metadata": {},
   "source": [
    "## Add export csv"
   ]
  },
  {
   "cell_type": "code",
   "execution_count": 4,
   "metadata": {},
   "outputs": [],
   "source": [
    "sensors_num_df = detective.NumericalSensors(db.master_df)"
   ]
  },
  {
   "cell_type": "code",
   "execution_count": 5,
   "metadata": {},
   "outputs": [
    {
     "data": {
      "text/plain": [
       "['sensor.particles_10um', 'sensor.particles_025um', 'sensor.particles_01um']"
      ]
     },
     "execution_count": 5,
     "metadata": {},
     "output_type": "execute_result"
    }
   ],
   "source": [
    "sensors_num_df.entities"
   ]
  },
  {
   "cell_type": "code",
   "execution_count": 6,
   "metadata": {},
   "outputs": [
    {
     "data": {
      "text/html": [
       "<div>\n",
       "<style scoped>\n",
       "    .dataframe tbody tr th:only-of-type {\n",
       "        vertical-align: middle;\n",
       "    }\n",
       "\n",
       "    .dataframe tbody tr th {\n",
       "        vertical-align: top;\n",
       "    }\n",
       "\n",
       "    .dataframe thead th {\n",
       "        text-align: right;\n",
       "    }\n",
       "</style>\n",
       "<table border=\"1\" class=\"dataframe\">\n",
       "  <thead>\n",
       "    <tr style=\"text-align: right;\">\n",
       "      <th>entity</th>\n",
       "      <th>sensor.particles_01um</th>\n",
       "      <th>sensor.particles_025um</th>\n",
       "      <th>sensor.particles_10um</th>\n",
       "    </tr>\n",
       "    <tr>\n",
       "      <th>last_changed</th>\n",
       "      <th></th>\n",
       "      <th></th>\n",
       "      <th></th>\n",
       "    </tr>\n",
       "  </thead>\n",
       "  <tbody>\n",
       "    <tr>\n",
       "      <th>2018-12-04 09:36:08.602089</th>\n",
       "      <td>81.0</td>\n",
       "      <td>106.0</td>\n",
       "      <td>115.0</td>\n",
       "    </tr>\n",
       "    <tr>\n",
       "      <th>2018-12-04 09:36:09.548357</th>\n",
       "      <td>82.0</td>\n",
       "      <td>106.0</td>\n",
       "      <td>115.0</td>\n",
       "    </tr>\n",
       "    <tr>\n",
       "      <th>2018-12-04 09:36:09.548566</th>\n",
       "      <td>82.0</td>\n",
       "      <td>107.0</td>\n",
       "      <td>115.0</td>\n",
       "    </tr>\n",
       "    <tr>\n",
       "      <th>2018-12-04 09:36:09.548759</th>\n",
       "      <td>82.0</td>\n",
       "      <td>107.0</td>\n",
       "      <td>119.0</td>\n",
       "    </tr>\n",
       "    <tr>\n",
       "      <th>2018-12-04 09:36:12.128323</th>\n",
       "      <td>83.0</td>\n",
       "      <td>107.0</td>\n",
       "      <td>119.0</td>\n",
       "    </tr>\n",
       "  </tbody>\n",
       "</table>\n",
       "</div>"
      ],
      "text/plain": [
       "entity                      sensor.particles_01um  sensor.particles_025um  \\\n",
       "last_changed                                                                \n",
       "2018-12-04 09:36:08.602089                   81.0                   106.0   \n",
       "2018-12-04 09:36:09.548357                   82.0                   106.0   \n",
       "2018-12-04 09:36:09.548566                   82.0                   107.0   \n",
       "2018-12-04 09:36:09.548759                   82.0                   107.0   \n",
       "2018-12-04 09:36:12.128323                   83.0                   107.0   \n",
       "\n",
       "entity                      sensor.particles_10um  \n",
       "last_changed                                       \n",
       "2018-12-04 09:36:08.602089                  115.0  \n",
       "2018-12-04 09:36:09.548357                  115.0  \n",
       "2018-12-04 09:36:09.548566                  115.0  \n",
       "2018-12-04 09:36:09.548759                  119.0  \n",
       "2018-12-04 09:36:12.128323                  119.0  "
      ]
     },
     "execution_count": 6,
     "metadata": {},
     "output_type": "execute_result"
    }
   ],
   "source": [
    "sensors_num_df.data.head()"
   ]
  },
  {
   "cell_type": "code",
   "execution_count": 7,
   "metadata": {},
   "outputs": [
    {
     "name": "stdout",
     "output_type": "stream",
     "text": [
      "Successfully exported entered entities to foo.csv\n"
     ]
    }
   ],
   "source": [
    "sensors_num_df.export_to_csv(['sensor.particles_10um', 'sensor.particles_025um'], filename='foo.csv')"
   ]
  }
 ],
 "metadata": {
  "kernelspec": {
   "display_name": "Python 3",
   "language": "python",
   "name": "python3"
  },
  "language_info": {
   "codemirror_mode": {
    "name": "ipython",
    "version": 3
   },
   "file_extension": ".py",
   "mimetype": "text/x-python",
   "name": "python",
   "nbconvert_exporter": "python",
   "pygments_lexer": "ipython3",
   "version": "3.6.5"
  }
 },
 "nbformat": 4,
 "nbformat_minor": 2
}
